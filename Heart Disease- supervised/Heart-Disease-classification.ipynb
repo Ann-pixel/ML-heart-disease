{
 "cells": [
  {
   "cell_type": "markdown",
   "id": "501a3814",
   "metadata": {},
   "source": [
    "# Predicting heart disease using ML\n",
    "This nb uses various Py-based ML and DS libraries in an attempt to build a Machine learning model that predicts, given enough medical data whether a person has heart disease.\n",
    "\n",
    "Steps:\n",
    "1. Problem Definition\n",
    "2. Data\n",
    "3. Evaluation\n",
    "4. Features\n",
    "5. Modelling\n",
    "6. Experimentation"
   ]
  },
  {
   "cell_type": "markdown",
   "id": "c4d09289",
   "metadata": {},
   "source": [
    "## 1. Problem def:\n",
    ">Create a machine learning model using Python libraries to predict whether a person has heart disease.\n",
    "\n",
    "## 2. Data: \n",
    ">The original data comes from Cleveland data from the UCI Machine learning Repo.\n",
    "\n",
    ">A copy of this data can be found on Kaggle: https://www.kaggle.com/ronitf/heart-disease-uci?select=heart.csv\n",
    "\n",
    "## 3. Evaluation:\n",
    ">If we can reach 95% accuracy at predicting whether or not a patient has heart disease during the proof of concept, we will pursue the project\n",
    "\n",
    "## 4. Features:\n",
    ">This is where you get info about each of the features in the data.\n",
    "\n",
    "**Data Dictionary**\n",
    "\n",
    "\n",
    "1. age- age in years\n",
    "\n",
    "2. sex- (1 = male; 0 = female)\n",
    "\n",
    "3. cp- chest pain type\n",
    "      * 0: Typical angina: chest pain related decrease blood supply to the heart\n",
    "      * 1: Atypical angina: chest pain not related to heart\n",
    "      * 2: Non-anginal pain: typically esophageal spasms (non heart related)\n",
    "      * 3: Asymptomatic: chest pain not showing signs of disease\n",
    "\n",
    "4. trestbps- resting blood pressure (in mm Hg on admission to the hospital) anything above 130-140 is typically cause for concern\n",
    "\n",
    "5. chol- serum cholestoral in mg/dl\n",
    "      * serum = LDL + HDL + .2 * triglycerides\n",
    "      * above 200 is cause for concern\n",
    "\n",
    "6. fbs- (fasting blood sugar > 120 mg/dl) (1 = true; 0 = false)\n",
    "      * '>126' mg/dL signals diabetes\n",
    "\n",
    "7. restecg- resting electrocardiographic results\n",
    "    0: Nothing to note\n",
    "    1: ST-T Wave abnormality\n",
    "      * can range from mild symptoms to severe problems\n",
    "      * signals non-normal heart beat\n",
    "    2: Possible or definite left ventricular hypertrophy\n",
    "      * Enlarged heart's main pumping chamber\n",
    "\n",
    "8. thalach- maximum heart rate achieved\n",
    "\n",
    "9. exang- exercise induced angina (1 = yes; 0 = no)\n",
    "\n",
    "10. oldpeak- ST depression induced by exercise relative to rest looks at stress of heart during excercise unhealthy heart will stress more\n",
    "\n",
    "11. slope- the slope of the peak exercise ST segment\n",
    "       * 0: Upsloping: better heart rate with excercise (uncommon)\n",
    "       * 1: Flatsloping: minimal change (typical healthy heart)\n",
    "       * 2: Downslopins: signs of unhealthy heart\n",
    "\n",
    "12. ca- number of major vessels (0-3) colored by flourosopy\n",
    "       * colored vessel means the doctor can see the blood passing through\n",
    "       * the more blood movement the better (no clots)\n",
    "\n",
    "13. thal- thalium stress result \n",
    "       * 3 = normal; \n",
    "       * 6 = fixed defect; \n",
    "       * 7 = reversable defect\n",
    "\n",
    "14. target- have disease or not (1=yes, 0=no) (= the predicted attribute)\n"
   ]
  },
  {
   "cell_type": "markdown",
   "id": "b1a915df",
   "metadata": {},
   "source": []
  },
  {
   "cell_type": "code",
   "execution_count": null,
   "id": "947ecde7",
   "metadata": {},
   "outputs": [],
   "source": []
  }
 ],
 "metadata": {
  "kernelspec": {
   "display_name": "Python 3",
   "language": "python",
   "name": "python3"
  },
  "language_info": {
   "codemirror_mode": {
    "name": "ipython",
    "version": 3
   },
   "file_extension": ".py",
   "mimetype": "text/x-python",
   "name": "python",
   "nbconvert_exporter": "python",
   "pygments_lexer": "ipython3",
   "version": "3.8.8"
  }
 },
 "nbformat": 4,
 "nbformat_minor": 5
}
